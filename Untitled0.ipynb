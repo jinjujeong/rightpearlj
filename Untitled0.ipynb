{
  "nbformat": 4,
  "nbformat_minor": 0,
  "metadata": {
    "colab": {
      "name": "Untitled0.ipynb",
      "provenance": [],
      "authorship_tag": "ABX9TyPqiZ5Q8nPdX075B8GCcuMy",
      "include_colab_link": true
    },
    "kernelspec": {
      "name": "python3",
      "display_name": "Python 3"
    }
  },
  "cells": [
    {
      "cell_type": "markdown",
      "metadata": {
        "id": "view-in-github",
        "colab_type": "text"
      },
      "source": [
        "<a href=\"https://colab.research.google.com/github/jinjujeong/rightpearlj/blob/master/Untitled0.ipynb\" target=\"_parent\"><img src=\"https://colab.research.google.com/assets/colab-badge.svg\" alt=\"Open In Colab\"/></a>"
      ]
    },
    {
      "cell_type": "code",
      "metadata": {
        "id": "jhG0cubbOj9y",
        "colab_type": "code",
        "colab": {}
      },
      "source": [
        ""
      ],
      "execution_count": null,
      "outputs": []
    },
    {
      "cell_type": "markdown",
      "metadata": {
        "id": "ohlJpx8fOlPi",
        "colab_type": "text"
      },
      "source": [
        "1. 언어- 구글 번역기2. 음성- 아이폰 시리, 삼성 빅스비, 기가지니 등\n",
        "3. 이미지- 구글 포토, 얼굴인식 잠금해제 등\n",
        "4. 자율주행- 무인자동차 테슬라의 오토파일럿 등"
      ]
    }
  ]
}